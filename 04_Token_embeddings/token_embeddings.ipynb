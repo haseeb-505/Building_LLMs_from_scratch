{
 "cells": [
  {
   "cell_type": "markdown",
   "id": "c2a7ff1f",
   "metadata": {},
   "source": [
    "## Token embeddings"
   ]
  },
  {
   "cell_type": "code",
   "execution_count": 5,
   "id": "da7932b9",
   "metadata": {},
   "outputs": [
    {
     "name": "stdout",
     "output_type": "stream",
     "text": [
      "raw text till 50 charcters is:  I HAD always thought Jack Gisburn rather a cheap g\n"
     ]
    }
   ],
   "source": [
    "with open(\"../the-verdict.txt\", \"r\", encoding=\"utf-8\") as f:\n",
    "    raw_text = f.read()\n",
    "    \n",
    "print(\"raw text till 50 charcters is: \", raw_text[:50])"
   ]
  },
  {
   "cell_type": "markdown",
   "id": "34434415",
   "metadata": {},
   "source": [
    "#### tiktoken tokenizer"
   ]
  },
  {
   "cell_type": "code",
   "execution_count": 6,
   "id": "ce3ff752",
   "metadata": {},
   "outputs": [],
   "source": [
    "import tiktoken\n",
    "\n",
    "tokenizer = tiktoken.get_encoding(\"gpt2\")"
   ]
  },
  {
   "cell_type": "markdown",
   "id": "cdf5e495",
   "metadata": {},
   "source": [
    "#### DataLoader and Dataset"
   ]
  },
  {
   "cell_type": "code",
   "execution_count": 10,
   "id": "42c8d16e",
   "metadata": {},
   "outputs": [],
   "source": [
    "import torch\n",
    "from torch.utils.data import Dataset, DataLoader"
   ]
  },
  {
   "cell_type": "code",
   "execution_count": 15,
   "id": "2810d403",
   "metadata": {},
   "outputs": [],
   "source": [
    "class GPTDataLoaderV1(Dataset):\n",
    "    def __init__(self, text, tokenizer, max_length, stride):\n",
    "        self.input_ids = []\n",
    "        self.target_ids = []\n",
    "        \n",
    "        # tokenize the text\n",
    "        token_ids = tokenizer.encode(text, allowed_special={\"<|endoftext|>\"})\n",
    "        \n",
    "        # chunking\n",
    "        for i in range(0, len(token_ids) - max_length, stride):\n",
    "            input_chunk = token_ids[i:i + max_length]\n",
    "            target_chunk = token_ids[i + 1 : i + 1 + max_length]\n",
    "            self.input_ids.append(torch.tensor(input_chunk))\n",
    "            self.target_ids.append(torch.tensor(target_chunk))\n",
    "            \n",
    "    def __len__(self):\n",
    "        return len(self.input_ids)\n",
    "    \n",
    "    def __getitem__(self, index):\n",
    "        return self.input_ids[index], self.target_ids[index]        "
   ]
  },
  {
   "cell_type": "code",
   "execution_count": 16,
   "id": "3e3354ea",
   "metadata": {},
   "outputs": [],
   "source": [
    "def createDataLoader_V1(txt, max_length:256, stride:128, batch_size:4, shuffle=True, drop_last=True, num_workers=0 ):\n",
    "    # tokenizer\n",
    "    tokenizer =  tiktoken.get_encoding(\"gpt2\")\n",
    "    \n",
    "    # dataset\n",
    "    dataset = GPTDataLoaderV1(txt, tokenizer, max_length=max_length, stride=stride)\n",
    "    \n",
    "    # dataloader \n",
    "    dataloader = DataLoader(dataset, batch_size=batch_size, shuffle=shuffle, num_workers=num_workers, drop_last=drop_last)\n",
    "    \n",
    "    return dataloader"
   ]
  },
  {
   "cell_type": "markdown",
   "id": "cdec00b4",
   "metadata": {},
   "source": [
    "**create the dataloader object wiht batch size 1, max_lenght=4 and pass it to iter**"
   ]
  },
  {
   "cell_type": "code",
   "execution_count": 17,
   "id": "f89e7aea",
   "metadata": {},
   "outputs": [
    {
     "name": "stdout",
     "output_type": "stream",
     "text": [
      "first batch is: \n",
      " [tensor([[  40,  367, 2885, 1464]]), tensor([[ 367, 2885, 1464, 1807]])]\n"
     ]
    }
   ],
   "source": [
    "dataloader = createDataLoader_V1(raw_text, batch_size=1, max_length=4, stride=1, shuffle=False)\n",
    "\n",
    "data_iter = iter(dataloader)\n",
    "first_batch = next(data_iter)\n",
    "print(\"first batch is: \\n\", first_batch)"
   ]
  },
  {
   "cell_type": "code",
   "execution_count": 25,
   "id": "551d381c",
   "metadata": {},
   "outputs": [
    {
     "name": "stdout",
     "output_type": "stream",
     "text": [
      "first batch input output pairs are\n",
      " tensor([[  40,  367, 2885, 1464]]) ---> tensor([[ 367, 2885, 1464, 1807]])\n",
      " I HAD always --->  HAD always thought\n"
     ]
    }
   ],
   "source": [
    "inputs, targets = first_batch\n",
    "print(f\"first batch input output pairs are\\n {inputs} ---> {targets}\")\n",
    "print(f\" {tokenizer.decode(inputs.squeeze().tolist())} ---> {tokenizer.decode(targets.squeeze().tolist())}\")"
   ]
  },
  {
   "cell_type": "markdown",
   "id": "4dfa8140",
   "metadata": {},
   "source": [
    "**let's examine the 2nd batch as well**"
   ]
  },
  {
   "cell_type": "code",
   "execution_count": 28,
   "id": "733388cf",
   "metadata": {},
   "outputs": [
    {
     "name": "stdout",
     "output_type": "stream",
     "text": [
      "\n",
      "batch: 0 input output pairs are\n",
      " tensor([[  40,  367, 2885, 1464]]) ---> tensor([[ 367, 2885, 1464, 1807]])\n",
      " I HAD always --->  HAD always thought\n",
      "\n",
      "batch: 1 input output pairs are\n",
      " tensor([[ 367, 2885, 1464, 1807]]) ---> tensor([[2885, 1464, 1807, 3619]])\n",
      "  HAD always thought ---> AD always thought Jack\n"
     ]
    }
   ],
   "source": [
    "dataloader = createDataLoader_V1(raw_text, max_length=4, stride=1, batch_size=1, shuffle=False)\n",
    "data_iter = iter(dataloader)\n",
    "\n",
    "for i in range(0, 2):\n",
    "    batch = next(data_iter)\n",
    "    inputs, targets = batch\n",
    "    print(f\"\\nbatch: {i} input output pairs are\\n {inputs} ---> {targets}\")\n",
    "    print(f\" {tokenizer.decode(inputs.squeeze().tolist())} ---> {tokenizer.decode(targets.squeeze().tolist())}\")"
   ]
  },
  {
   "cell_type": "markdown",
   "id": "55a61297",
   "metadata": {},
   "source": [
    "**We see here tokenizer considered \"HAD\" as a composite word of H and AD, so in the 2nd batch it has splitted it. Had it been \"had\", tokenizer won't have splitted it**"
   ]
  },
  {
   "cell_type": "markdown",
   "id": "8d9fb09e",
   "metadata": {},
   "source": [
    "#### Let's examine the bahavior with different values"
   ]
  },
  {
   "cell_type": "code",
   "execution_count": 31,
   "id": "348bd4b6",
   "metadata": {},
   "outputs": [
    {
     "name": "stdout",
     "output_type": "stream",
     "text": [
      "\n",
      "batch: 0 input output pairs are\n",
      " tensor([[   40,   367,  2885,  1464],\n",
      "        [ 1807,  3619,   402,   271],\n",
      "        [10899,  2138,   257,  7026],\n",
      "        [15632,   438,  2016,   257],\n",
      "        [  922,  5891,  1576,   438],\n",
      "        [  568,   340,   373,   645],\n",
      "        [ 1049,  5975,   284,   502],\n",
      "        [  284,  3285,   326,    11]]) ---> tensor([[  367,  2885,  1464,  1807],\n",
      "        [ 3619,   402,   271, 10899],\n",
      "        [ 2138,   257,  7026, 15632],\n",
      "        [  438,  2016,   257,   922],\n",
      "        [ 5891,  1576,   438,   568],\n",
      "        [  340,   373,   645,  1049],\n",
      "        [ 5975,   284,   502,   284],\n",
      "        [ 3285,   326,    11,   287]])\n",
      "\n",
      "I HAD always thought Jack Gisburn rather a cheap genius--though a good fellow enough--so it was no great surprise to me to hear that, --->  HAD always thought Jack Gisburn rather a cheap genius--though a good fellow enough--so it was no great surprise to me to hear that, in\n",
      "\n",
      "batch: 1 input output pairs are\n",
      " tensor([[  287,   262,  6001,   286],\n",
      "        [  465, 13476,    11,   339],\n",
      "        [  550,  5710,   465, 12036],\n",
      "        [   11,  6405,   257,  5527],\n",
      "        [27075,    11,   290,  4920],\n",
      "        [ 2241,   287,   257,  4489],\n",
      "        [   64,   319,   262, 34686],\n",
      "        [41976,    13,   357, 10915]]) ---> tensor([[  262,  6001,   286,   465],\n",
      "        [13476,    11,   339,   550],\n",
      "        [ 5710,   465, 12036,    11],\n",
      "        [ 6405,   257,  5527, 27075],\n",
      "        [   11,   290,  4920,  2241],\n",
      "        [  287,   257,  4489,    64],\n",
      "        [  319,   262, 34686, 41976],\n",
      "        [   13,   357, 10915,   314]])\n",
      "\n",
      " in the height of his glory, he had dropped his painting, married a rich widow, and established himself in a villa on the Riviera. (Though --->  the height of his glory, he had dropped his painting, married a rich widow, and established himself in a villa on the Riviera. (Though I\n"
     ]
    }
   ],
   "source": [
    "dataloader = createDataLoader_V1(raw_text, batch_size=8, max_length=4, stride=4, shuffle=False)\n",
    "\n",
    "data_iter = iter(dataloader)\n",
    "\n",
    "for i in range(0, 2):\n",
    "    batch = next(data_iter)\n",
    "    inputs, targets = batch\n",
    "    print(f\"\\nbatch: {i} input output pairs are\\n {inputs} ---> {targets}\")\n",
    "    print(f\"\\n{tokenizer.decode(inputs.flatten().tolist())} ---> {tokenizer.decode(targets.flatten().tolist())}\")"
   ]
  },
  {
   "cell_type": "markdown",
   "id": "09985730",
   "metadata": {},
   "source": [
    "### Embeddings"
   ]
  },
  {
   "cell_type": "code",
   "execution_count": 32,
   "id": "d23c53fb",
   "metadata": {},
   "outputs": [],
   "source": [
    "input_ids = torch.tensor([2, 3, 4, 5])"
   ]
  },
  {
   "cell_type": "code",
   "execution_count": 33,
   "id": "39b03bac",
   "metadata": {},
   "outputs": [],
   "source": [
    "vocab_size = 6\n",
    "output_dim = 3\n",
    "\n",
    "torch.manual_seed(42)\n",
    "embedding_layer = torch.nn.Embedding(vocab_size, output_dim)"
   ]
  },
  {
   "cell_type": "code",
   "execution_count": 35,
   "id": "f5fa7a6e",
   "metadata": {},
   "outputs": [
    {
     "name": "stdout",
     "output_type": "stream",
     "text": [
      "Parameter containing:\n",
      "tensor([[ 1.9269,  1.4873, -0.4974],\n",
      "        [ 0.4396, -0.7581,  1.0783],\n",
      "        [ 0.8008,  1.6806,  0.3559],\n",
      "        [-0.6866,  0.6105,  1.3347],\n",
      "        [-0.2316,  0.0418, -0.2516],\n",
      "        [ 0.8599, -0.3097, -0.3957]], requires_grad=True)\n",
      "\n",
      "The shape the weight matrix is:  torch.Size([6, 3])\n"
     ]
    }
   ],
   "source": [
    "print(embedding_layer.weight)\n",
    "print(\"\\nThe shape the weight matrix is: \", embedding_layer.weight.shape)"
   ]
  },
  {
   "cell_type": "markdown",
   "id": "087da2b1",
   "metadata": {},
   "source": [
    "**let's get the embedding vector for id number 3**"
   ]
  },
  {
   "cell_type": "code",
   "execution_count": 36,
   "id": "f900e86f",
   "metadata": {},
   "outputs": [
    {
     "name": "stdout",
     "output_type": "stream",
     "text": [
      "tensor([[-0.6866,  0.6105,  1.3347]], grad_fn=<EmbeddingBackward0>)\n"
     ]
    }
   ],
   "source": [
    "print(embedding_layer(torch.tensor([3])))"
   ]
  },
  {
   "cell_type": "markdown",
   "id": "d7dd6b97",
   "metadata": {},
   "source": [
    "**getting vector for all the ids we defined above**"
   ]
  },
  {
   "cell_type": "code",
   "execution_count": 37,
   "id": "a82f8788",
   "metadata": {},
   "outputs": [
    {
     "name": "stdout",
     "output_type": "stream",
     "text": [
      "tensor([[ 0.8008,  1.6806,  0.3559],\n",
      "        [-0.6866,  0.6105,  1.3347],\n",
      "        [-0.2316,  0.0418, -0.2516],\n",
      "        [ 0.8599, -0.3097, -0.3957]], grad_fn=<EmbeddingBackward0>)\n"
     ]
    },
    {
     "name": "stderr",
     "output_type": "stream",
     "text": [
      "C:\\Users\\Haseeb\\AppData\\Local\\Temp\\ipykernel_17992\\3846183200.py:1: UserWarning: To copy construct from a tensor, it is recommended to use sourceTensor.clone().detach() or sourceTensor.clone().detach().requires_grad_(True), rather than torch.tensor(sourceTensor).\n",
      "  print(embedding_layer(torch.tensor(input_ids)))\n"
     ]
    }
   ],
   "source": [
    "print(embedding_layer(torch.tensor(input_ids)))"
   ]
  },
  {
   "cell_type": "markdown",
   "id": "07b67597",
   "metadata": {},
   "source": [
    "<div><h3>Generating Token Emebddings similar GPT2</h3></div>\n",
    "\n",
    "**Now we'll first create an embedding layer of size 50257 * 256**\n",
    "</br>\n",
    "\n",
    "**Then we'll use the dataloader we designed above to generate the token ids**\n",
    "</br>\n",
    "\n",
    "**Next we'll pass those ids to embedding layer to get the corresponding enocded vector**"
   ]
  },
  {
   "cell_type": "markdown",
   "id": "6400355f",
   "metadata": {},
   "source": [
    "**GPT2 embeddings**"
   ]
  },
  {
   "cell_type": "code",
   "execution_count": 42,
   "id": "0e69f43a",
   "metadata": {},
   "outputs": [
    {
     "name": "stdout",
     "output_type": "stream",
     "text": [
      "Shape of token_embedding_layer weight is: torch.Size([50257, 256])\n"
     ]
    }
   ],
   "source": [
    "vocab_size = 50257 # means 50257 token were used to train gpt2\n",
    "output_dim = 256\n",
    "\n",
    "token_embedding_layer = torch.nn.Embedding(vocab_size, output_dim)\n",
    "print(\"Shape of token_embedding_layer weight is:\", token_embedding_layer.weight.shape)"
   ]
  },
  {
   "cell_type": "code",
   "execution_count": 39,
   "id": "fe33a34e",
   "metadata": {},
   "outputs": [],
   "source": [
    "max_length = 4\n",
    "dataloader = createDataLoader_V1(raw_text, batch_size=8, max_length=max_length, stride=max_length, shuffle=False)\n",
    "\n",
    "data_iter = iter(dataloader)\n",
    "inputs, targets = next(data_iter)"
   ]
  },
  {
   "cell_type": "code",
   "execution_count": 40,
   "id": "fc0f35da",
   "metadata": {},
   "outputs": [
    {
     "name": "stdout",
     "output_type": "stream",
     "text": [
      "Token IDs: \n",
      " tensor([[   40,   367,  2885,  1464],\n",
      "        [ 1807,  3619,   402,   271],\n",
      "        [10899,  2138,   257,  7026],\n",
      "        [15632,   438,  2016,   257],\n",
      "        [  922,  5891,  1576,   438],\n",
      "        [  568,   340,   373,   645],\n",
      "        [ 1049,  5975,   284,   502],\n",
      "        [  284,  3285,   326,    11]])\n",
      "\n",
      "Inputs shape: \n",
      " torch.Size([8, 4])\n"
     ]
    }
   ],
   "source": [
    "print(\"Token IDs: \\n\", inputs)\n",
    "print(\"\\nInputs shape: \\n\", inputs.shape)"
   ]
  },
  {
   "cell_type": "markdown",
   "id": "c0d083d4",
   "metadata": {},
   "source": [
    "**By now we have tokens of size 8 by 4, but we need to convert each of these tokens to a vecotr of size 256, i.e., 1 by 256 or 256 by 1**"
   ]
  },
  {
   "cell_type": "code",
   "execution_count": 50,
   "id": "c393b17a",
   "metadata": {},
   "outputs": [
    {
     "name": "stdout",
     "output_type": "stream",
     "text": [
      "torch.Size([8, 4, 256])\n"
     ]
    }
   ],
   "source": [
    "token_embeddings = token_embedding_layer(inputs)\n",
    "print(token_embeddings.shape)"
   ]
  },
  {
   "cell_type": "markdown",
   "id": "dadf6143",
   "metadata": {},
   "source": [
    "### Positional Encoding"
   ]
  },
  {
   "cell_type": "code",
   "execution_count": 51,
   "id": "8276e44f",
   "metadata": {},
   "outputs": [],
   "source": [
    "context_length = max_length\n",
    "pos_embedding_layer = torch.nn.Embedding(context_length, output_dim)"
   ]
  },
  {
   "cell_type": "code",
   "execution_count": 52,
   "id": "0e7be959",
   "metadata": {},
   "outputs": [
    {
     "name": "stdout",
     "output_type": "stream",
     "text": [
      "torch.Size([4, 256])\n"
     ]
    }
   ],
   "source": [
    "pos_embeddings = pos_embedding_layer(torch.arange(max_length))\n",
    "print(pos_embeddings.shape)"
   ]
  },
  {
   "cell_type": "markdown",
   "id": "c8152243",
   "metadata": {},
   "source": [
    "### Final input embeddings"
   ]
  },
  {
   "cell_type": "code",
   "execution_count": 54,
   "id": "d83060a5",
   "metadata": {},
   "outputs": [
    {
     "name": "stdout",
     "output_type": "stream",
     "text": [
      "torch.Size([8, 4, 256])\n"
     ]
    }
   ],
   "source": [
    "input_embeddings = token_embeddings + pos_embeddings\n",
    "print(input_embeddings.shape)"
   ]
  },
  {
   "cell_type": "code",
   "execution_count": null,
   "id": "4d1fe435",
   "metadata": {},
   "outputs": [],
   "source": []
  }
 ],
 "metadata": {
  "kernelspec": {
   "display_name": "Python 3",
   "language": "python",
   "name": "python3"
  },
  "language_info": {
   "codemirror_mode": {
    "name": "ipython",
    "version": 3
   },
   "file_extension": ".py",
   "mimetype": "text/x-python",
   "name": "python",
   "nbconvert_exporter": "python",
   "pygments_lexer": "ipython3",
   "version": "3.12.10"
  }
 },
 "nbformat": 4,
 "nbformat_minor": 5
}
