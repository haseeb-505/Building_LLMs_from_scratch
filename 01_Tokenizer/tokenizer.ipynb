{
 "cells": [
  {
   "cell_type": "markdown",
   "id": "8314fe0c",
   "metadata": {},
   "source": [
    "#### Reading in a short story as text sample into Python."
   ]
  },
  {
   "cell_type": "markdown",
   "id": "5a8c55ff",
   "metadata": {},
   "source": [
    "##### Creating Tokens"
   ]
  },
  {
   "cell_type": "code",
   "execution_count": 2,
   "id": "4262ab6a",
   "metadata": {},
   "outputs": [
    {
     "name": "stdout",
     "output_type": "stream",
     "text": [
      "Total numbers of characters:  20479\n",
      "\n",
      "First 100 characters are: \n",
      "\n",
      "I HAD always thought Jack Gisburn rather a cheap genius--though a good fellow enough--so it was no \n"
     ]
    }
   ],
   "source": [
    "with open(\"the-verdict.txt\", \"r\", encoding=\"utf-8\") as f:\n",
    "    raw_text = f.read();\n",
    "    \n",
    "print(\"Total numbers of characters: \", len(raw_text));\n",
    "print(\"\\nFirst 100 characters are: \\n\")\n",
    "print(raw_text[:99]);"
   ]
  },
  {
   "cell_type": "markdown",
   "id": "c7e89bbd",
   "metadata": {},
   "source": [
    "##### text splitting, generating tokens"
   ]
  },
  {
   "cell_type": "code",
   "execution_count": 6,
   "id": "aa6e22b8",
   "metadata": {},
   "outputs": [
    {
     "name": "stdout",
     "output_type": "stream",
     "text": [
      "['Hello,', ' ', \"it's\", ' ', 'me!,', ' ', 'I', ' ', 'have', ' ', 'been', ' ', 'wondering,', ' ', 'if', ' ', 'after', ' ', 'all', ' ', 'these', ' ', 'years', ' ', 'you', ' ', 'still', ' ', 'remeber', ' ', 'me.']\n"
     ]
    }
   ],
   "source": [
    "import re\n",
    "\n",
    "text = \"Hello, it's me!, I have been wondering, if after all these years you still remeber me.\"\n",
    "result = re.split(r'(\\s)', text)\n",
    "print(result)"
   ]
  },
  {
   "cell_type": "markdown",
   "id": "d3b36f31",
   "metadata": {},
   "source": [
    "**comma and period**"
   ]
  },
  {
   "cell_type": "code",
   "execution_count": 7,
   "id": "859c607d",
   "metadata": {},
   "outputs": [
    {
     "name": "stdout",
     "output_type": "stream",
     "text": [
      "['Hello', '', \"it's\", 'me!', '', 'I', 'have', 'been', 'wondering', '', 'if', 'after', 'all', 'these', 'years', 'you', 'still', 'remeber', 'me', '']\n"
     ]
    }
   ],
   "source": [
    "result = re.split(r'[,.]|\\s', text)\n",
    "print(result)"
   ]
  },
  {
   "cell_type": "markdown",
   "id": "148d4a78",
   "metadata": {},
   "source": [
    "**remove white spaces from the tokens generated above**"
   ]
  },
  {
   "cell_type": "code",
   "execution_count": 8,
   "id": "ac3f0d10",
   "metadata": {},
   "outputs": [
    {
     "name": "stdout",
     "output_type": "stream",
     "text": [
      "['Hello', \"it's\", 'me!', 'I', 'have', 'been', 'wondering', 'if', 'after', 'all', 'these', 'years', 'you', 'still', 'remeber', 'me']\n"
     ]
    }
   ],
   "source": [
    "items = [item for item in result if item.strip()];\n",
    "print(items)"
   ]
  },
  {
   "cell_type": "code",
   "execution_count": 9,
   "id": "e75a38c9",
   "metadata": {},
   "outputs": [
    {
     "name": "stdout",
     "output_type": "stream",
     "text": [
      "['Hello', ',', 'it', \"'\", 's', 'me', '!', ',', 'I', 'have', 'been', 'wondering', ',', 'if', 'after', 'all', 'these', 'years', 'you', 'still', 'remeber', 'me', '.']\n"
     ]
    }
   ],
   "source": [
    "result = re.split(r'([,.:;?_!\"()\\']|--|\\s)', text);\n",
    "result = [item for item in result if item.strip()]\n",
    "print(result);"
   ]
  },
  {
   "cell_type": "markdown",
   "id": "f39029a4",
   "metadata": {},
   "source": [
    "**apply this to raw text we extracted above**"
   ]
  },
  {
   "cell_type": "code",
   "execution_count": 10,
   "id": "4ce766a0",
   "metadata": {},
   "outputs": [
    {
     "name": "stdout",
     "output_type": "stream",
     "text": [
      "['I', 'HAD', 'always', 'thought', 'Jack', 'Gisburn', 'rather', 'a', 'cheap', 'genius', '--', 'though', 'a', 'good', 'fellow', 'enough', '--', 'so', 'it', 'was', 'no', 'great', 'surprise', 'to', 'me', 'to', 'hear', 'that', ',', 'in']\n"
     ]
    }
   ],
   "source": [
    "preprocessed = re.split(r'([,.:;\"?_()/\\']|--|\\s)', raw_text);\n",
    "preprocessed = [item for item in preprocessed if item.strip()];\n",
    "print(preprocessed[:30]);"
   ]
  },
  {
   "cell_type": "markdown",
   "id": "4a7915a7",
   "metadata": {},
   "source": [
    "**Token IDs**"
   ]
  },
  {
   "cell_type": "code",
   "execution_count": 12,
   "id": "e20c2866",
   "metadata": {},
   "outputs": [
    {
     "name": "stdout",
     "output_type": "stream",
     "text": [
      "1148\n"
     ]
    }
   ],
   "source": [
    "all_words = sorted(set(preprocessed));\n",
    "vocab_size = len(all_words);\n",
    "\n",
    "print(vocab_size);"
   ]
  },
  {
   "cell_type": "code",
   "execution_count": 13,
   "id": "1e086a11",
   "metadata": {},
   "outputs": [],
   "source": [
    "vocab = {token: integer for integer, token in enumerate(all_words)};"
   ]
  },
  {
   "cell_type": "code",
   "execution_count": 14,
   "id": "66e105a8",
   "metadata": {},
   "outputs": [
    {
     "name": "stdout",
     "output_type": "stream",
     "text": [
      "('\"', 0)\n",
      "(\"'\", 1)\n",
      "('(', 2)\n",
      "(')', 3)\n",
      "(',', 4)\n",
      "('--', 5)\n",
      "('.', 6)\n",
      "(':', 7)\n",
      "(';', 8)\n",
      "('?', 9)\n",
      "('A', 10)\n",
      "('Ah', 11)\n",
      "('Among', 12)\n",
      "('And', 13)\n",
      "('Are', 14)\n",
      "('Arrt', 15)\n",
      "('As', 16)\n",
      "('At', 17)\n",
      "('Be', 18)\n",
      "('Begin', 19)\n",
      "('Burlington', 20)\n",
      "('But', 21)\n",
      "('By', 22)\n",
      "('Carlo', 23)\n",
      "('Chicago', 24)\n",
      "('Claude', 25)\n",
      "('Come', 26)\n",
      "('Croft', 27)\n",
      "('Destroyed', 28)\n",
      "('Devonshire', 29)\n",
      "('Don', 30)\n",
      "('Dubarry', 31)\n",
      "('Emperors', 32)\n",
      "('Florence', 33)\n",
      "('For', 34)\n",
      "('Gallery', 35)\n",
      "('Gideon', 36)\n",
      "('Gisburn', 37)\n",
      "('Gisburn!', 38)\n",
      "('Gisburns', 39)\n",
      "('Grafton', 40)\n",
      "('Greek', 41)\n",
      "('Grindle', 42)\n",
      "('Grindles', 43)\n",
      "('HAD', 44)\n",
      "('Had', 45)\n",
      "('Hang', 46)\n",
      "('Has', 47)\n",
      "('He', 48)\n",
      "('Her', 49)\n",
      "('Hermia', 50)\n"
     ]
    }
   ],
   "source": [
    "for i, item in enumerate(vocab.items()):\n",
    "    print(item)\n",
    "    if i >= 50:\n",
    "        break;"
   ]
  },
  {
   "cell_type": "markdown",
   "id": "9c0963a6",
   "metadata": {},
   "source": [
    "#### Tokenizer Class"
   ]
  },
  {
   "cell_type": "code",
   "execution_count": 15,
   "id": "a2fef0fd",
   "metadata": {},
   "outputs": [],
   "source": [
    "class SimpleTokenizerV1:\n",
    "    def __init__(self, vocab):\n",
    "        self.str_to_int = vocab\n",
    "        self.int_to_str = {i:s for s,i in vocab.items()}\n",
    "        \n",
    "    def encode(self, text):\n",
    "        preprocessed = re.split(r'([,.:;?_!\"()\\']|--|\\s)', text)\n",
    "        \n",
    "        preprocessed = [item.strip() for item in preprocessed if item.strip()]\n",
    "        ids = [self.str_to_int[s] for s in preprocessed]\n",
    "        return ids;\n",
    "    \n",
    "    def decode(self, ids):\n",
    "        text = \" \".join([self.int_to_str[i] for i in ids])\n",
    "        # replace the space before the specified punctuations\n",
    "        text = re.sub(r'\\s+([,.?!\"()\\'])', r'\\1', text)\n",
    "        return text;"
   ]
  },
  {
   "cell_type": "markdown",
   "id": "069b301c",
   "metadata": {},
   "source": [
    "**instantiate a new tokenizer object from SimpleTokenizerV1 class and tokenize the raw text**"
   ]
  },
  {
   "cell_type": "code",
   "execution_count": 17,
   "id": "32f1c7e1",
   "metadata": {},
   "outputs": [
    {
     "name": "stdout",
     "output_type": "stream",
     "text": [
      "[0, 56, 1, 861, 1001, 609, 538, 756, 4, 1144, 603, 0, 4, 69, 6, 37, 862, 1123, 764, 804, 6]\n"
     ]
    }
   ],
   "source": [
    "tokenizer = SimpleTokenizerV1(vocab);\n",
    "\n",
    "# out of this tokenizer object, we'll now pass a text to its encoder and get it ids\n",
    "text = \"\"\"\"It's the last he painted, you know\", \n",
    "        Mrs. Gisburn said with pardonable pride.\"\"\"\n",
    "        \n",
    "ids = tokenizer.encode(text);\n",
    "print(ids);"
   ]
  },
  {
   "cell_type": "code",
   "execution_count": null,
   "id": "0ed190fc",
   "metadata": {},
   "outputs": [
    {
     "data": {
      "text/plain": [
       "'\" It\\' s the last he painted, you know\", Mrs. Gisburn said with pardonable pride.'"
      ]
     },
     "execution_count": 19,
     "metadata": {},
     "output_type": "execute_result"
    }
   ],
   "source": [
    "# decodin the ids back to original text\n",
    "tokenizer.decode(ids)"
   ]
  },
  {
   "cell_type": "markdown",
   "id": "e770a080",
   "metadata": {},
   "source": [
    "**what if we pass some text which is already in the vocab**"
   ]
  },
  {
   "cell_type": "code",
   "execution_count": 21,
   "id": "590b0afe",
   "metadata": {},
   "outputs": [],
   "source": [
    "# sample_text = \"Hello, how are you?\"\n",
    "# tokenizer.encode(sample_text)\n",
    "\n",
    "# NOTE: this will throw an error"
   ]
  },
  {
   "cell_type": "markdown",
   "id": "7772e44b",
   "metadata": {},
   "source": [
    "#### Adding Special Context Tokens, (Handling Unknow Words)"
   ]
  },
  {
   "cell_type": "code",
   "execution_count": 23,
   "id": "e3f4147a",
   "metadata": {},
   "outputs": [],
   "source": [
    "all_tokens = sorted(list(set(preprocessed)))\n",
    "all_tokens.extend([\"<|endoftext|>\", \"<|unk|>\"])\n",
    "\n",
    "# now vocab is\n",
    "vocab = {token: integer for integer, token in enumerate(all_tokens)}"
   ]
  },
  {
   "cell_type": "code",
   "execution_count": 24,
   "id": "3e931fbb",
   "metadata": {},
   "outputs": [
    {
     "data": {
      "text/plain": [
       "1150"
      ]
     },
     "execution_count": 24,
     "metadata": {},
     "output_type": "execute_result"
    }
   ],
   "source": [
    "len(vocab.items())"
   ]
  },
  {
   "cell_type": "code",
   "execution_count": 25,
   "id": "5d439433",
   "metadata": {},
   "outputs": [
    {
     "name": "stdout",
     "output_type": "stream",
     "text": [
      "('younger', 1145)\n",
      "('your', 1146)\n",
      "('yourself', 1147)\n",
      "('<|endoftext|>', 1148)\n",
      "('<|unk|>', 1149)\n"
     ]
    }
   ],
   "source": [
    "for i, item in enumerate(list(vocab.items())[-5:]):\n",
    "    print(item)"
   ]
  },
  {
   "cell_type": "markdown",
   "id": "8da9743e",
   "metadata": {},
   "source": [
    "**construct Tokenizer version 2**"
   ]
  },
  {
   "cell_type": "code",
   "execution_count": 26,
   "id": "b984911a",
   "metadata": {},
   "outputs": [],
   "source": [
    "class SimpleTokenizerV2:\n",
    "    def __init__(self, vocab):\n",
    "        self.str_to_int = vocab\n",
    "        self.int_to_str = { i:s for s, i in vocab.items() }\n",
    "        \n",
    "    def encode(self, text):\n",
    "        preprocessed = re.split(r'([,.:;\"?_!\"()\\']|--|\\s)', text)\n",
    "        preprocessed = [item.strip() for item in preprocessed if item.strip()]\n",
    "        preprocessed = [item if item in self.str_to_int else \"<|unk|>\" for item in preprocessed]\n",
    "        \n",
    "        ids = [self.str_to_int[s] for s in preprocessed]\n",
    "        return ids\n",
    "    \n",
    "    def decode(self, ids):\n",
    "        text = \" \".join([self.int_to_str[i] for i in ids])\n",
    "        # Replace space before the specified punctuation\n",
    "        text = re.sub(r'\\s+([,.:;?!\"()\\'])', r'\\1', text)\n",
    "        return text"
   ]
  },
  {
   "cell_type": "code",
   "execution_count": 27,
   "id": "b017372a",
   "metadata": {},
   "outputs": [
    {
     "name": "stdout",
     "output_type": "stream",
     "text": [
      "Hello, do you like tea? <|endoftext|> In the sunlit terraces of the palace.\n"
     ]
    }
   ],
   "source": [
    "tokenizer = SimpleTokenizerV2(vocab)\n",
    "\n",
    "text1 = \"Hello, do you like tea?\"\n",
    "text2 = \"In the sunlit terraces of the palace.\"\n",
    "\n",
    "text = \" <|endoftext|> \".join((text1, text2))\n",
    "\n",
    "print(text)"
   ]
  },
  {
   "cell_type": "code",
   "execution_count": 31,
   "id": "11f0ee2a",
   "metadata": {},
   "outputs": [
    {
     "data": {
      "text/plain": [
       "[1149, 4, 360, 1144, 635, 988, 9, 1148, 55, 1001, 969, 997, 731, 1001, 1149, 6]"
      ]
     },
     "execution_count": 31,
     "metadata": {},
     "output_type": "execute_result"
    }
   ],
   "source": [
    "tokenizer.encode(text)"
   ]
  },
  {
   "cell_type": "code",
   "execution_count": 32,
   "id": "7dc43004",
   "metadata": {},
   "outputs": [
    {
     "data": {
      "text/plain": [
       "'<|unk|>, do you like tea? <|endoftext|> In the sunlit terraces of the <|unk|>.'"
      ]
     },
     "execution_count": 32,
     "metadata": {},
     "output_type": "execute_result"
    }
   ],
   "source": [
    "tokenizer.decode(tokenizer.encode(text))"
   ]
  },
  {
   "cell_type": "markdown",
   "id": "8f32fb35",
   "metadata": {},
   "source": [
    "**Next we'll see BP-Encoding, Byte-Pair Encoding**"
   ]
  },
  {
   "cell_type": "code",
   "execution_count": null,
   "id": "ed65c431",
   "metadata": {},
   "outputs": [],
   "source": []
  }
 ],
 "metadata": {
  "kernelspec": {
   "display_name": "Python 3",
   "language": "python",
   "name": "python3"
  },
  "language_info": {
   "codemirror_mode": {
    "name": "ipython",
    "version": 3
   },
   "file_extension": ".py",
   "mimetype": "text/x-python",
   "name": "python",
   "nbconvert_exporter": "python",
   "pygments_lexer": "ipython3",
   "version": "3.12.10"
  }
 },
 "nbformat": 4,
 "nbformat_minor": 5
}
